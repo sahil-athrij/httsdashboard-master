{
 "cells": [
  {
   "cell_type": "code",
   "execution_count": 1,
   "metadata": {},
   "outputs": [
    {
     "ename": "FileNotFoundError",
     "evalue": "[Errno 2] No such file or directory: '/HTTSDashboard/logs/ACI/report/2020-05-09.html'",
     "output_type": "error",
     "traceback": [
      "\u001b[0;31m\u001b[0m",
      "\u001b[0;31mFileNotFoundError\u001b[0mTraceback (most recent call last)",
      "\u001b[0;32m<ipython-input-1-c2148247830f>\u001b[0m in \u001b[0;36m<module>\u001b[0;34m\u001b[0m\n\u001b[1;32m     19\u001b[0m \u001b[0;34m\u001b[0m\u001b[0m\n\u001b[1;32m     20\u001b[0m \u001b[0mdailyreportfilename\u001b[0m \u001b[0;34m=\u001b[0m \u001b[0;34m'/HTTSDashboard/logs/ACI/report/'\u001b[0m\u001b[0;34m+\u001b[0m\u001b[0mtoday_date\u001b[0m\u001b[0;34m+\u001b[0m\u001b[0;34m'.html'\u001b[0m\u001b[0;34m\u001b[0m\u001b[0;34m\u001b[0m\u001b[0m\n\u001b[0;32m---> 21\u001b[0;31m \u001b[0;32mwith\u001b[0m \u001b[0mopen\u001b[0m\u001b[0;34m(\u001b[0m\u001b[0mdailyreportfilename\u001b[0m\u001b[0;34m,\u001b[0m\u001b[0;34m'r'\u001b[0m\u001b[0;34m)\u001b[0m \u001b[0;32mas\u001b[0m \u001b[0mfile\u001b[0m\u001b[0;34m:\u001b[0m\u001b[0;34m\u001b[0m\u001b[0;34m\u001b[0m\u001b[0m\n\u001b[0m\u001b[1;32m     22\u001b[0m     \u001b[0mdailyreportstringhtml\u001b[0m \u001b[0;34m=\u001b[0m \u001b[0mfile\u001b[0m\u001b[0;34m.\u001b[0m\u001b[0mread\u001b[0m\u001b[0;34m(\u001b[0m\u001b[0;34m)\u001b[0m\u001b[0;34m\u001b[0m\u001b[0;34m\u001b[0m\u001b[0m\n\u001b[1;32m     23\u001b[0m \u001b[0;34m\u001b[0m\u001b[0m\n",
      "\u001b[0;31mFileNotFoundError\u001b[0m: [Errno 2] No such file or directory: '/HTTSDashboard/logs/ACI/report/2020-05-09.html'"
     ]
    }
   ],
   "source": [
    "import datetime\n",
    "import smtplib\n",
    "from email.mime.multipart import MIMEMultipart\n",
    "from email.mime.text import MIMEText\n",
    "import ACILib\n",
    "\n",
    "today_date = datetime.datetime.today().strftime(\"%Y-%m-%d\")\n",
    "today_weekday = datetime.datetime.today().strftime(\"%A\")\n",
    "\n",
    "emailhost = \"outbound.cisco.com\"\n",
    "FromEmail = \"donotreply@cisco.com\"\n",
    "ToEmail = ['zdazhi@cisco.com', 'zdazhi@cisco.com']\n",
    "\n",
    "# Create message container - the correct MIME type is multipart/alternative.\n",
    "msg = MIMEMultipart('alternative')\n",
    "msg['Subject'] = \"{} ACI-APJC Tracking Report - {} \".format(today_date,today_weekday)\n",
    "msg['From'] = FromEmail\n",
    "msg['To'] = \", \".join(ToEmail)\n",
    "\n",
    "dailyreportfilename = '/HTTSDashboard/logs/ACI/report/'+today_date+'.html'\n",
    "with open(dailyreportfilename,'r') as file:\n",
    "    dailyreportstringhtml = file.read()\n",
    "            \n",
    "# Create the body of the message (a plain-text and an HTML version).\n",
    "#text = \"Hi!\\nHow are you?\\nHere is the link you wanted:\\nhttp://www.python.org\"\n",
    "html = \"\"\"\\\n",
    "<html>\n",
    "  <head></head>\n",
    "  <body>\n",
    "    <p>Hi!<br>\n",
    "       How are you?<br>\n",
    "       Here is the <a href=\"http://www.python.org\">link</a> you wanted.\n",
    "    </p>\n",
    "  </body>\n",
    "</html>\n",
    "\"\"\"\n",
    "\n",
    "#part1 = MIMEText(text, 'plain')\n",
    "part2 = MIMEText(dailyreportstringhtml, 'html')\n",
    "\n",
    "#msg.attach(part1)\n",
    "msg.attach(part2)\n",
    "\n",
    "mail = smtplib.SMTP(emailhost)\n",
    "mail.ehlo()\n",
    "mail.starttls()\n",
    "#mail.login('userName', 'password')\n",
    "mail.sendmail(FromEmail, ToEmail, msg.as_string())\n",
    "mail.quit()\n"
   ]
  },
  {
   "cell_type": "code",
   "execution_count": null,
   "metadata": {},
   "outputs": [],
   "source": []
  }
 ],
 "metadata": {
  "kernelspec": {
   "display_name": "Python 3",
   "language": "python",
   "name": "python3"
  },
  "language_info": {
   "codemirror_mode": {
    "name": "ipython",
    "version": 3
   },
   "file_extension": ".py",
   "mimetype": "text/x-python",
   "name": "python",
   "nbconvert_exporter": "python",
   "pygments_lexer": "ipython3",
   "version": "3.7.6"
  }
 },
 "nbformat": 4,
 "nbformat_minor": 4
}
