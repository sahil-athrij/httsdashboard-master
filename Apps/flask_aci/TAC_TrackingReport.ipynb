{
 "cells": [
  {
   "cell_type": "code",
   "execution_count": 319,
   "metadata": {},
   "outputs": [
    {
     "data": {
      "text/plain": [
       "['689106118-~2-~CX-APJC-BLR-ACI-SSPT-~2020-05-23 05:26:07',\n",
       " '689141613-~3-~CX-APJC-SYD-ACI-SSPT-~2020-05-23 05:30:20',\n",
       " '689117227-~3-~CX-APJC-BLR-ACI-SSPT-~2020-05-23 05:30:22',\n",
       " '689149779-~1-~FTS-~2020-05-24 00:01:50',\n",
       " '689129275-~2-~CX-APJC-BLR-ACI-SSPT-~2020-05-24 00:08:04',\n",
       " '689149814-~4-~CX-APJC-SYD-ACI-SSPT-~2020-05-24 00:18:28',\n",
       " '689055780-~3-~CX-APJC-BLR-ACI-SSPT-~2020-05-24 00:33:24',\n",
       " '689146885-~2-~CX-APJC-BLR-ACI-SSPT-~2020-05-24 00:45:38',\n",
       " '689108265-~3-~CX-APJC-BLR-ACI-SSPT-~2020-05-24 01:00:12',\n",
       " '689140240-~3-~CX-APJC-SYD-ACI-SSPT-~2020-05-24 01:00:14']"
      ]
     },
     "execution_count": 319,
     "metadata": {},
     "output_type": "execute_result"
    }
   ],
   "source": [
    "import copy, datetime, glob\n",
    "from dateutil import parser\n",
    "import ACILib\n",
    "\n",
    "InterestQueueName = ACILib.ACI_InterestQueueName\n",
    "###### Path in Container setup ######\n",
    "flask_container_path = ''\n",
    "notebook_container_path = '/home/jovyan'\n",
    "current_container_path = notebook_container_path\n",
    "logfilename = current_container_path + '/HTTSDashboard/logs/RabbitMQ_ACI_Event.log*'\n",
    "logfilelist = glob.glob(logfilename)\n",
    "\n",
    "event_path = '/HTTSDashboard/logs/ACI/events/'\n",
    "acceptfilename = current_container_path + event_path + '*_AcceptEvent.txt'\n",
    "acceptfilelist = glob.glob(acceptfilename)\n",
    "inqueuefilename = current_container_path + event_path + '*_InQueueEvent.txt'\n",
    "inqueuefilelist = glob.glob(inqueuefilename)\n",
    "\n",
    "AcceptEventsFromFile = ACILib.FindAcceptEventsFromEventFile(acceptfilelist)\n",
    "InQueueEventsFromFile = ACILib.FindInQueueEventsFromEventFile(inqueuefilelist)\n",
    "######Return is by year######\n",
    "InQueueEventsFromFile[2020][-10:]"
   ]
  },
  {
   "cell_type": "code",
   "execution_count": 329,
   "metadata": {},
   "outputs": [
    {
     "data": {
      "text/plain": [
       "{'FTS': ['689149779'],\n",
       " 'CX-APJC-BLR-ACI-SSPT': ['689129275', '689055780', '689146885', '689108265'],\n",
       " 'CX-APJC-SYD-ACI-SSPT': ['689149814', '689140240']}"
      ]
     },
     "execution_count": 329,
     "metadata": {},
     "output_type": "execute_result"
    }
   ],
   "source": [
    "InQueueEventsFromFile[2020][-10:]\n",
    "\n",
    "def ConvertInQueueEventsByDate(start_date='2020-02-27',end_date=datetime.datetime.today().strftime(\"%Y-%m-%d\"),InQueueEventsFromFile={}):    \n",
    "    InQueueEventsByDate = {} # {'2020-05-22,{'CX-APJC-BLR-ACI-SSPT':[689148383],'CX-APJC-SYD-ACI-SSPT':[689148487]}}\n",
    "    for year,events in InQueueEventsFromFile.items():\n",
    "        if year < parser.parse(start_date).year:\n",
    "            continue\n",
    "        elif year > parser.parse(end_date).year:\n",
    "            break\n",
    "        for event in events:\n",
    "            caseno,casesev,queue,timestamp = event.split('-~')\n",
    "            #print(\" {} - {}\".format(timestamp,end_date))\n",
    "            if parser.parse(timestamp) < parser.parse(start_date):\n",
    "                continue\n",
    "            elif parser.parse(timestamp) >= parser.parse(end_date)+datetime.timedelta(days=1):\n",
    "                break\n",
    "            date = parser.parse(timestamp).strftime(\"%Y-%m-%d\")\n",
    "            if date not in InQueueEventsByDate.keys():\n",
    "                InQueueEventsByDate[date] = {}\n",
    "            if queue not in InQueueEventsByDate[date]:\n",
    "                InQueueEventsByDate[date][queue] = []\n",
    "            InQueueEventsByDate[date][queue].append(caseno)\n",
    "    return InQueueEventsByDate\n",
    "\n",
    "InQueueEventsByDate = ConvertInQueueEventsByDate(start_date='2020-02-27',InQueueEventsFromFile=InQueueEventsFromFile)\n",
    "InQueueEventsByDate['2020-05-24']"
   ]
  },
  {
   "cell_type": "code",
   "execution_count": 342,
   "metadata": {},
   "outputs": [
    {
     "data": {
      "text/plain": [
       "{'689111638': [['roagraw2', 'UC_WORKGROUP']],\n",
       " '689136652': [['minkwong', 'APT-ACI-SOLUTIONS']],\n",
       " '689146430': [['siddhp', 'APT-ACI-SOLUTIONS']],\n",
       " '689148383': [['kahande', 'APT-ACI-SOLUTIONS2']],\n",
       " '689148462': [['maveer', 'APT-ACI-SOLUTIONS2']],\n",
       " '689027437': [['hethakur', 'APT-ACI-SOLUTIONS2']],\n",
       " '689148487': [['siddhp', 'APT-ACI-SOLUTIONS']],\n",
       " '689148561': [['deepaky', 'APT-ACI-SOLUTIONS2']],\n",
       " '689148432': [['raghb', 'APT-ACI-SOLUTIONS2']],\n",
       " '689148585': [['roagraw2', 'APT-ACI-SOLUTIONS2']],\n",
       " '689123995': [['rajbg', 'UC_WORKGROUP']],\n",
       " '689117227': [['kahande', 'APT-ACI-SOLUTIONS2']],\n",
       " '689141613': [['minkwong', 'APT-ACI-SOLUTIONS']],\n",
       " '689106118': [['kahande', 'APT-ACI-SOLUTIONS2']]}"
      ]
     },
     "execution_count": 342,
     "metadata": {},
     "output_type": "execute_result"
    }
   ],
   "source": [
    "AcceptEventsByDate = {} # {'2020-05-22',{caseno:[[zdazhi,tetration],[zmeng,HTTS]]}}\n",
    "\n",
    "def ConvertAcceptEventsByDate(start_date='2020-02-27',end_date=datetime.datetime.today().strftime(\"%Y-%m-%d\"),AcceptEventsFromFile=[]):\n",
    "    AcceptEventsByDate = {}\n",
    "    for year,events in AcceptEventsFromFile.items():\n",
    "        if year < parser.parse(start_date).year:\n",
    "            continue\n",
    "        elif year > parser.parse(end_date).year:\n",
    "            break\n",
    "        for event in events:\n",
    "            caseno,casesev,ccoid,workgroup,timestamp = event.split('-~')\n",
    "            if parser.parse(timestamp) < parser.parse(start_date):\n",
    "                continue\n",
    "            elif parser.parse(timestamp) > parser.parse(end_date)+datetime.timedelta(days=1):\n",
    "                break\n",
    "            date = parser.parse(timestamp).strftime(\"%Y-%m-%d\")\n",
    "            if date not in AcceptEventsByDate.keys():\n",
    "                AcceptEventsByDate[date] = {}\n",
    "            if caseno not in AcceptEventsByDate[date].keys():\n",
    "                AcceptEventsByDate[date][caseno] = []\n",
    "            if ccoid != 'lowtouch':\n",
    "                AcceptEventsByDate[date][caseno].append([ccoid,workgroup])\n",
    "        return AcceptEventsByDate\n",
    "    \n",
    "RawAcceptEventsByDate = ConvertAcceptEventsByDate(start_date='2020-02-27',AcceptEventsFromFile=AcceptEventsFromFile) \n",
    "RawAcceptEventsByDate['2020-05-23']"
   ]
  },
  {
   "cell_type": "code",
   "execution_count": 344,
   "metadata": {},
   "outputs": [
    {
     "data": {
      "text/plain": [
       "('gauvasud', 'APT-ACI-SOLUTIONS2', '2020-05-22')"
      ]
     },
     "execution_count": 344,
     "metadata": {},
     "output_type": "execute_result"
    }
   ],
   "source": [
    "###### For FTS_Workgroup and UC_Workgroup Find previous accepted case to identify the workgroup, by the reverse date #######\n",
    "def FindEngrWorkgroup(date,ccoid,AcceptEventsByDate):\n",
    "    end_datetime = parser.parse('2020-02-27')\n",
    "    cur_datetime = parser.parse(date)\n",
    "    while cur_datetime > end_datetime:\n",
    "        cur_date = cur_datetime.strftime(\"%Y-%m-%d\")\n",
    "        for caseno, caestakerlist in AcceptEventsByDate[cur_date].items():\n",
    "            for casetaker in caestakerlist:\n",
    "                if ccoid == casetaker[0] and casetaker[1] != 'UC_WORKGROUP' and casetaker[1] != 'FTS_WORKGROUP':\n",
    "                    #print(\"Found {} in workgroup {} on date {} from case {}\".format(ccoid,casetaker[1],cur_date,caseno))\n",
    "                    return ccoid, casetaker[1], cur_date\n",
    "        cur_datetime = cur_datetime + datetime.timedelta(days=-1)\n",
    "    return ccoid, \"Unknown\",date\n",
    "FindEngrWorkgroup('2020-05-22','gauvasud',RawAcceptEventsByDate)"
   ]
  },
  {
   "cell_type": "code",
   "execution_count": 350,
   "metadata": {},
   "outputs": [
    {
     "data": {
      "text/plain": [
       "({'689133999': [['kahande', 'APT-ACI-SOLUTIONS2']],\n",
       "  '689128378': [['vanakkad', 'US-ACI-SOL-WEST'],\n",
       "   ['gauvasud', 'APT-ACI-SOLUTIONS2']],\n",
       "  '689140726': [['wilchong', 'APT-ACI-SOLUTIONS']],\n",
       "  '689110886': [['tonzeng', 'APT-ACI-SOLUTIONS']],\n",
       "  '689137507': [['prpratee', 'APT-ACI-SOLUTIONS2']],\n",
       "  '689124387': [['zmeng', 'CX-APJC-SYD-DC-HTEC']],\n",
       "  '689139346': [['junwa', 'APT-ACI-SOLUTIONS']],\n",
       "  '689140386': [['reperuma', 'APT-ACI-SOLUTIONS2']],\n",
       "  '689139008': [['deepaky', 'APT-ACI-SOLUTIONS2']],\n",
       "  '689115289': [['hethakur', 'APT-ACI-SOLUTIONS2']],\n",
       "  '689134216': [['siddhp', 'APT-ACI-SOLUTIONS']],\n",
       "  '689141863': [['debabbar', 'APT-ACI-SOLUTIONS']],\n",
       "  '689142124': [['jawalia', 'APT-ACI-SOLUTIONS2']],\n",
       "  '688924443': [['maveer', 'APT-ACI-SOLUTIONS2']],\n",
       "  '689100426': [['maveer', 'APT-ACI-SOLUTIONS2'],\n",
       "   ['kahande', 'APT-ACI-SOLUTIONS2']],\n",
       "  '689108672': [['gauvasud', 'APT-ACI-SOLUTIONS2']],\n",
       "  '689142289': [['junwa', 'APT-ACI-SOLUTIONS']],\n",
       "  '688998242': [['debabbar', 'APT-ACI-SOLUTIONS']],\n",
       "  '689142489': [['jawalia', 'APT-ACI-SOLUTIONS2']],\n",
       "  '689142571': [['maveer', 'APT-ACI-SOLUTIONS2']],\n",
       "  '689142516': [['tonzeng', 'APT-ACI-SOLUTIONS']]},\n",
       " 7)"
      ]
     },
     "execution_count": 350,
     "metadata": {},
     "output_type": "execute_result"
    }
   ],
   "source": [
    "###### 1. Only CaseInQueue and engineer takes it will take into account 2. Only APT-ACI-SOLUTIONS/2 yanked case(not InQueue) will take into account ######\n",
    "def RemoveNotInQueueAcceptCase(start_date='2020-02-27',end_date=datetime.datetime.today().strftime(\"%Y-%m-%d\"),RawAcceptEventsByDate=[],InQueueEventsByDate=[],InterestWorkgroup=['APT-ACI-SOLUTIONS','APT-ACI-SOLUTIONS2']):\n",
    "    \n",
    "    RemoveNotInQueueAcceptEventsByDate = copy.deepcopy(RawAcceptEventsByDate)\n",
    "    for date,events in RawAcceptEventsByDate.items():\n",
    "        if parser.parse(date) < parser.parse(start_date):\n",
    "            continue\n",
    "        elif parser.parse(date) > parser.parse(end_date):\n",
    "            break\n",
    "        InQueueCaseList = []\n",
    "        RemoveCaseList = []\n",
    "        for casetype,caselist in InQueueEventsByDate[date].items():\n",
    "                InQueueCaseList = [*InQueueCaseList,*caselist]\n",
    "        ###### Remove the case which is not in queue but taken and keep workgroup engineer yanked case by InterestWorkgroup######\n",
    "        for caseno,casetakerlist in RawAcceptEventsByDate[date].items():\n",
    "            #if date == '2020-05-24':\n",
    "            #    print(\"{} {} {} {}\".format(date,caseno,casetakerlist,InQueueCaseList))\n",
    "            if caseno not in InQueueCaseList:\n",
    "                ###### If there is a yank case which is not in queue, but yanked by APT-ACI-SOLUTIONS/2 engineer, it wont be removed ######.\n",
    "                isYankedCase = False \n",
    "                for casetaker in casetakerlist:\n",
    "                    if casetaker[1] in InterestWorkgroup:\n",
    "                        #print(\"{} {} is a yanked case, keep in the accepted list\".format(date,caseno))\n",
    "                        isYankedCase = True\n",
    "                if not isYankedCase:\n",
    "                    #print(\"{} Removing the case {} as it is not the InQueue case\".format(date,caseno))\n",
    "                    RemoveCaseList.append(caseno)\n",
    "        #if date == '2020-05-24':\n",
    "            #print(\"Remove Case List {}\".format(RemoveCaseList))\n",
    "        for caseno in RemoveCaseList:\n",
    "            del RemoveNotInQueueAcceptEventsByDate[date][caseno]\n",
    "    \n",
    "    \n",
    "    UpdWGAcceptEventsByDate = copy.deepcopy(RemoveNotInQueueAcceptEventsByDate)\n",
    "    #print(\"After Remove Case List {}\".format(UpdWGAcceptEventsByDate['2020-05-24']))\n",
    "    ###### Check UC_WORKGROUP and FTS_WORKGROUP Put in the right workgroup #######\n",
    "    for date,caselist in RemoveNotInQueueAcceptEventsByDate.items():\n",
    "        if parser.parse(date) < parser.parse(start_date):\n",
    "            continue\n",
    "        elif parser.parse(date) > parser.parse(end_date):\n",
    "            break\n",
    "        for caseno,casetakerlist in caselist.items():\n",
    "            for idx,casetaker in enumerate(casetakerlist):\n",
    "                if casetaker[1] not in InterestWorkgroup:\n",
    "                    ccoid,workgroup,date_wg = FindEngrWorkgroup(date,casetaker[0],RawAcceptEventsByDate)\n",
    "                    if workgroup != \"Unknown\":\n",
    "                        #print(\"caseno {} {} {} {}\".format(caseno,ccoid,workgroup,date_wg))\n",
    "                        UpdWGAcceptEventsByDate[date][caseno][idx][1] = workgroup\n",
    "    #print(\"Return Accept case list by date {}\".format(UpdWGAcceptEventsByDate['2020-05-24']))\n",
    "    return UpdWGAcceptEventsByDate\n",
    "\n",
    "date = '2020-05-24'\n",
    "UpdWGAcceptEventsByDate = RemoveNotInQueueAcceptCase(start_date='2020-02-27',RawAcceptEventsByDate=RawAcceptEventsByDate,InQueueEventsByDate=InQueueEventsByDate)\n",
    "UpdWGAcceptEventsByDate['2020-05-22'], len(UpdWGAcceptEventsByDate[date])"
   ]
  },
  {
   "cell_type": "code",
   "execution_count": 353,
   "metadata": {},
   "outputs": [
    {
     "data": {
      "text/plain": [
       "{'APT-ACI-SOLUTIONS2': {'kahande': ['689133999', '689100426'],\n",
       "  'gauvasud': ['689128378', '689108672'],\n",
       "  'prpratee': ['689137507'],\n",
       "  'reperuma': ['689140386'],\n",
       "  'deepaky': ['689139008'],\n",
       "  'hethakur': ['689115289'],\n",
       "  'jawalia': ['689142124', '689142489'],\n",
       "  'maveer': ['688924443', '689100426', '689142571']},\n",
       " 'US-ACI-SOL-WEST': {'vanakkad': ['689128378']},\n",
       " 'APT-ACI-SOLUTIONS': {'wilchong': ['689140726'],\n",
       "  'tonzeng': ['689110886', '689142516'],\n",
       "  'junwa': ['689139346', '689142289'],\n",
       "  'siddhp': ['689134216'],\n",
       "  'debabbar': ['689141863', '688998242']},\n",
       " 'CX-APJC-SYD-DC-HTEC': {'zmeng': ['689124387']}}"
      ]
     },
     "execution_count": 353,
     "metadata": {},
     "output_type": "execute_result"
    }
   ],
   "source": [
    "###### Taken Case By Group ######\n",
    "def CaseTakenByEngrGrpByDate(start_date='2020-02-27',end_date=datetime.datetime.today().strftime(\"%Y-%m-%d\"),UpdWGAcceptEventsByDate={}):\n",
    "    \n",
    "    CaseTakenByEngrByDate = {} # {'2020-50-23':{'APT-ACI-SOLUTIONS':{'siddhp':[689146430,689148487]}}}\n",
    "    for date, items in UpdWGAcceptEventsByDate.items():\n",
    "        if parser.parse(date) < parser.parse(start_date):\n",
    "            continue\n",
    "        elif parser.parse(date) > parser.parse(end_date):\n",
    "            break\n",
    "        #print(\"Processing date {}\".format(date))\n",
    "        if date not in CaseTakenByEngrByDate.keys():\n",
    "            CaseTakenByEngrByDate[date] = {}\n",
    "        for caseno, casetakerlist in items.items():\n",
    "            for casetaker in casetakerlist:\n",
    "                if casetaker[1] not in CaseTakenByEngrByDate[date].keys():\n",
    "                    CaseTakenByEngrByDate[date][casetaker[1]] = {}\n",
    "                if casetaker[0] not in CaseTakenByEngrByDate[date][casetaker[1]].keys():\n",
    "                    CaseTakenByEngrByDate[date][casetaker[1]][casetaker[0]] = []\n",
    "                CaseTakenByEngrByDate[date][casetaker[1]][casetaker[0]].append(caseno)\n",
    "    return CaseTakenByEngrByDate\n",
    "\n",
    "CaseTakenByEngrByDate = CaseTakenByEngrGrpByDate(start_date='2020-02-27',UpdWGAcceptEventsByDate=UpdWGAcceptEventsByDate)\n",
    "CaseTakenByEngrByDate['2020-05-22']"
   ]
  },
  {
   "cell_type": "code",
   "execution_count": 177,
   "metadata": {},
   "outputs": [
    {
     "name": "stdout",
     "output_type": "stream",
     "text": [
      "Found gauvasud in workgroup APT-ACI-SOLUTIONS2 on date 2020-05-22 from case 689108672\n"
     ]
    },
    {
     "data": {
      "text/plain": [
       "('gauvasud', 'APT-ACI-SOLUTIONS2', '2020-05-22')"
      ]
     },
     "execution_count": 177,
     "metadata": {},
     "output_type": "execute_result"
    }
   ],
   "source": []
  },
  {
   "cell_type": "code",
   "execution_count": 45,
   "metadata": {},
   "outputs": [
    {
     "data": {
      "text/plain": [
       "13"
      ]
     },
     "execution_count": 45,
     "metadata": {},
     "output_type": "execute_result"
    }
   ],
   "source": [
    "###### Case Volume in Total ######\n",
    "GetTotCase = lambda date,InQueueEventsByDate : sum([len(caselist) for casetype,caselist in InQueueEventsByDate[date].items()])\n",
    "GetTotCase('2020-05-23',InQueueEventsByDate)"
   ]
  }
 ],
 "metadata": {
  "kernelspec": {
   "display_name": "Python 3",
   "language": "python",
   "name": "python3"
  },
  "language_info": {
   "codemirror_mode": {
    "name": "ipython",
    "version": 3
   },
   "file_extension": ".py",
   "mimetype": "text/x-python",
   "name": "python",
   "nbconvert_exporter": "python",
   "pygments_lexer": "ipython3",
   "version": "3.7.6"
  }
 },
 "nbformat": 4,
 "nbformat_minor": 4
}
